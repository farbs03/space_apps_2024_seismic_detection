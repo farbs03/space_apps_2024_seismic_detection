{
 "cells": [
  {
   "cell_type": "code",
   "execution_count": 3,
   "metadata": {},
   "outputs": [],
   "source": [
    "import tensorflow as tf\n",
    "import numpy as np\n",
    "import pandas as pd"
   ]
  },
  {
   "cell_type": "code",
   "execution_count": 2,
   "metadata": {},
   "outputs": [
    {
     "data": {
      "text/plain": [
       "<Functional name=FFN_0, built=True>"
      ]
     },
     "execution_count": 2,
     "metadata": {},
     "output_type": "execute_result"
    }
   ],
   "source": [
    "model = tf.keras.models.load_model('./model/models/FFN_0.keras')\n",
    "model "
   ]
  },
  {
   "cell_type": "code",
   "execution_count": 11,
   "metadata": {},
   "outputs": [
    {
     "data": {
      "text/html": [
       "<div>\n",
       "<style scoped>\n",
       "    .dataframe tbody tr th:only-of-type {\n",
       "        vertical-align: middle;\n",
       "    }\n",
       "\n",
       "    .dataframe tbody tr th {\n",
       "        vertical-align: top;\n",
       "    }\n",
       "\n",
       "    .dataframe thead th {\n",
       "        text-align: right;\n",
       "    }\n",
       "</style>\n",
       "<table border=\"1\" class=\"dataframe\">\n",
       "  <thead>\n",
       "    <tr style=\"text-align: right;\">\n",
       "      <th></th>\n",
       "      <th>time_rel(sec)</th>\n",
       "      <th>velocity(m/s)</th>\n",
       "    </tr>\n",
       "  </thead>\n",
       "  <tbody>\n",
       "    <tr>\n",
       "      <th>0</th>\n",
       "      <td>0.000000</td>\n",
       "      <td>-5.481780e-15</td>\n",
       "    </tr>\n",
       "    <tr>\n",
       "      <th>1</th>\n",
       "      <td>0.150943</td>\n",
       "      <td>-6.878653e-15</td>\n",
       "    </tr>\n",
       "    <tr>\n",
       "      <th>2</th>\n",
       "      <td>0.301887</td>\n",
       "      <td>-7.486137e-15</td>\n",
       "    </tr>\n",
       "    <tr>\n",
       "      <th>3</th>\n",
       "      <td>0.452830</td>\n",
       "      <td>-7.191481e-15</td>\n",
       "    </tr>\n",
       "    <tr>\n",
       "      <th>4</th>\n",
       "      <td>0.603774</td>\n",
       "      <td>-6.287278e-15</td>\n",
       "    </tr>\n",
       "    <tr>\n",
       "      <th>...</th>\n",
       "      <td>...</td>\n",
       "      <td>...</td>\n",
       "    </tr>\n",
       "    <tr>\n",
       "      <th>572406</th>\n",
       "      <td>86400.905660</td>\n",
       "      <td>8.188906e-16</td>\n",
       "    </tr>\n",
       "    <tr>\n",
       "      <th>572407</th>\n",
       "      <td>86401.056604</td>\n",
       "      <td>-6.852630e-17</td>\n",
       "    </tr>\n",
       "    <tr>\n",
       "      <th>572408</th>\n",
       "      <td>86401.207547</td>\n",
       "      <td>-8.490759e-16</td>\n",
       "    </tr>\n",
       "    <tr>\n",
       "      <th>572409</th>\n",
       "      <td>86401.358491</td>\n",
       "      <td>-1.930016e-15</td>\n",
       "    </tr>\n",
       "    <tr>\n",
       "      <th>572410</th>\n",
       "      <td>86401.509434</td>\n",
       "      <td>-3.466622e-15</td>\n",
       "    </tr>\n",
       "  </tbody>\n",
       "</table>\n",
       "<p>572411 rows × 2 columns</p>\n",
       "</div>"
      ],
      "text/plain": [
       "        time_rel(sec)  velocity(m/s)\n",
       "0            0.000000  -5.481780e-15\n",
       "1            0.150943  -6.878653e-15\n",
       "2            0.301887  -7.486137e-15\n",
       "3            0.452830  -7.191481e-15\n",
       "4            0.603774  -6.287278e-15\n",
       "...               ...            ...\n",
       "572406   86400.905660   8.188906e-16\n",
       "572407   86401.056604  -6.852630e-17\n",
       "572408   86401.207547  -8.490759e-16\n",
       "572409   86401.358491  -1.930016e-15\n",
       "572410   86401.509434  -3.466622e-15\n",
       "\n",
       "[572411 rows x 2 columns]"
      ]
     },
     "execution_count": 11,
     "metadata": {},
     "output_type": "execute_result"
    }
   ],
   "source": [
    "data = pd.read_csv('./data/lunar/training/data/S12_GradeA/xa.s12.00.mhz.1970-03-25HR00_evid00003.csv')\n",
    "inputs = data[[\"time_rel(sec)\",\"velocity(m/s)\"]]\n",
    "inputs"
   ]
  },
  {
   "cell_type": "code",
   "execution_count": 13,
   "metadata": {},
   "outputs": [
    {
     "name": "stdout",
     "output_type": "stream",
     "text": [
      "\u001b[1m17888/17888\u001b[0m \u001b[32m━━━━━━━━━━━━━━━━━━━━\u001b[0m\u001b[37m\u001b[0m \u001b[1m9s\u001b[0m 501us/step\n"
     ]
    }
   ],
   "source": [
    "predictions = model.predict(inputs)"
   ]
  },
  {
   "cell_type": "code",
   "execution_count": 16,
   "metadata": {},
   "outputs": [
    {
     "data": {
      "text/plain": [
       "array([[2.1743028e-06],\n",
       "       [2.1767385e-06],\n",
       "       [2.1794451e-06],\n",
       "       ...,\n",
       "       [1.3132805e-05],\n",
       "       [1.3132805e-05],\n",
       "       [1.3132805e-05]], dtype=float32)"
      ]
     },
     "execution_count": 16,
     "metadata": {},
     "output_type": "execute_result"
    }
   ],
   "source": [
    "predictions"
   ]
  },
  {
   "cell_type": "code",
   "execution_count": 17,
   "metadata": {},
   "outputs": [
    {
     "data": {
      "text/plain": [
       "1.3132805e-05"
      ]
     },
     "execution_count": 17,
     "metadata": {},
     "output_type": "execute_result"
    }
   ],
   "source": [
    "np.max(predictions)"
   ]
  },
  {
   "cell_type": "code",
   "execution_count": null,
   "metadata": {},
   "outputs": [],
   "source": []
  }
 ],
 "metadata": {
  "kernelspec": {
   "display_name": "env",
   "language": "python",
   "name": "python3"
  },
  "language_info": {
   "codemirror_mode": {
    "name": "ipython",
    "version": 3
   },
   "file_extension": ".py",
   "mimetype": "text/x-python",
   "name": "python",
   "nbconvert_exporter": "python",
   "pygments_lexer": "ipython3",
   "version": "3.11.9"
  }
 },
 "nbformat": 4,
 "nbformat_minor": 2
}
